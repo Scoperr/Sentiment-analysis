{
 "cells": [
  {
   "cell_type": "code",
   "execution_count": 2,
   "metadata": {},
   "outputs": [],
   "source": [
    "import numpy as np\n",
    "from tensorflow.keras.preprocessing import sequence\n",
    "from tensorflow.keras.models import load_model"
   ]
  },
  {
   "cell_type": "code",
   "execution_count": 3,
   "metadata": {},
   "outputs": [
    {
     "name": "stderr",
     "output_type": "stream",
     "text": [
      "WARNING:absl:Compiled the loaded model, but the compiled metrics have yet to be built. `model.compile_metrics` will be empty until you train or evaluate the model.\n"
     ]
    }
   ],
   "source": [
    "model = load_model(\"twitter_analysis.h5\")"
   ]
  },
  {
   "cell_type": "code",
   "execution_count": 4,
   "metadata": {},
   "outputs": [
    {
     "data": {
      "text/html": [
       "<pre style=\"white-space:pre;overflow-x:auto;line-height:normal;font-family:Menlo,'DejaVu Sans Mono',consolas,'Courier New',monospace\"><span style=\"font-weight: bold\">Model: \"sequential_19\"</span>\n",
       "</pre>\n"
      ],
      "text/plain": [
       "\u001b[1mModel: \"sequential_19\"\u001b[0m\n"
      ]
     },
     "metadata": {},
     "output_type": "display_data"
    },
    {
     "data": {
      "text/html": [
       "<pre style=\"white-space:pre;overflow-x:auto;line-height:normal;font-family:Menlo,'DejaVu Sans Mono',consolas,'Courier New',monospace\">┏━━━━━━━━━━━━━━━━━━━━━━━━━━━━━━━━━┳━━━━━━━━━━━━━━━━━━━━━━━━┳━━━━━━━━━━━━━━━┓\n",
       "┃<span style=\"font-weight: bold\"> Layer (type)                    </span>┃<span style=\"font-weight: bold\"> Output Shape           </span>┃<span style=\"font-weight: bold\">       Param # </span>┃\n",
       "┡━━━━━━━━━━━━━━━━━━━━━━━━━━━━━━━━━╇━━━━━━━━━━━━━━━━━━━━━━━━╇━━━━━━━━━━━━━━━┩\n",
       "│ embedding_16 (<span style=\"color: #0087ff; text-decoration-color: #0087ff\">Embedding</span>)        │ (<span style=\"color: #00d7ff; text-decoration-color: #00d7ff\">None</span>, <span style=\"color: #00af00; text-decoration-color: #00af00\">76</span>, <span style=\"color: #00af00; text-decoration-color: #00af00\">64</span>)         │       <span style=\"color: #00af00; text-decoration-color: #00af00\">160,064</span> │\n",
       "├─────────────────────────────────┼────────────────────────┼───────────────┤\n",
       "│ simple_rnn_16 (<span style=\"color: #0087ff; text-decoration-color: #0087ff\">SimpleRNN</span>)       │ (<span style=\"color: #00d7ff; text-decoration-color: #00d7ff\">None</span>, <span style=\"color: #00af00; text-decoration-color: #00af00\">128</span>)            │        <span style=\"color: #00af00; text-decoration-color: #00af00\">24,704</span> │\n",
       "├─────────────────────────────────┼────────────────────────┼───────────────┤\n",
       "│ dense_19 (<span style=\"color: #0087ff; text-decoration-color: #0087ff\">Dense</span>)                │ (<span style=\"color: #00d7ff; text-decoration-color: #00d7ff\">None</span>, <span style=\"color: #00af00; text-decoration-color: #00af00\">1</span>)              │           <span style=\"color: #00af00; text-decoration-color: #00af00\">129</span> │\n",
       "└─────────────────────────────────┴────────────────────────┴───────────────┘\n",
       "</pre>\n"
      ],
      "text/plain": [
       "┏━━━━━━━━━━━━━━━━━━━━━━━━━━━━━━━━━┳━━━━━━━━━━━━━━━━━━━━━━━━┳━━━━━━━━━━━━━━━┓\n",
       "┃\u001b[1m \u001b[0m\u001b[1mLayer (type)                   \u001b[0m\u001b[1m \u001b[0m┃\u001b[1m \u001b[0m\u001b[1mOutput Shape          \u001b[0m\u001b[1m \u001b[0m┃\u001b[1m \u001b[0m\u001b[1m      Param #\u001b[0m\u001b[1m \u001b[0m┃\n",
       "┡━━━━━━━━━━━━━━━━━━━━━━━━━━━━━━━━━╇━━━━━━━━━━━━━━━━━━━━━━━━╇━━━━━━━━━━━━━━━┩\n",
       "│ embedding_16 (\u001b[38;5;33mEmbedding\u001b[0m)        │ (\u001b[38;5;45mNone\u001b[0m, \u001b[38;5;34m76\u001b[0m, \u001b[38;5;34m64\u001b[0m)         │       \u001b[38;5;34m160,064\u001b[0m │\n",
       "├─────────────────────────────────┼────────────────────────┼───────────────┤\n",
       "│ simple_rnn_16 (\u001b[38;5;33mSimpleRNN\u001b[0m)       │ (\u001b[38;5;45mNone\u001b[0m, \u001b[38;5;34m128\u001b[0m)            │        \u001b[38;5;34m24,704\u001b[0m │\n",
       "├─────────────────────────────────┼────────────────────────┼───────────────┤\n",
       "│ dense_19 (\u001b[38;5;33mDense\u001b[0m)                │ (\u001b[38;5;45mNone\u001b[0m, \u001b[38;5;34m1\u001b[0m)              │           \u001b[38;5;34m129\u001b[0m │\n",
       "└─────────────────────────────────┴────────────────────────┴───────────────┘\n"
      ]
     },
     "metadata": {},
     "output_type": "display_data"
    },
    {
     "data": {
      "text/html": [
       "<pre style=\"white-space:pre;overflow-x:auto;line-height:normal;font-family:Menlo,'DejaVu Sans Mono',consolas,'Courier New',monospace\"><span style=\"font-weight: bold\"> Total params: </span><span style=\"color: #00af00; text-decoration-color: #00af00\">184,899</span> (722.27 KB)\n",
       "</pre>\n"
      ],
      "text/plain": [
       "\u001b[1m Total params: \u001b[0m\u001b[38;5;34m184,899\u001b[0m (722.27 KB)\n"
      ]
     },
     "metadata": {},
     "output_type": "display_data"
    },
    {
     "data": {
      "text/html": [
       "<pre style=\"white-space:pre;overflow-x:auto;line-height:normal;font-family:Menlo,'DejaVu Sans Mono',consolas,'Courier New',monospace\"><span style=\"font-weight: bold\"> Trainable params: </span><span style=\"color: #00af00; text-decoration-color: #00af00\">184,897</span> (722.25 KB)\n",
       "</pre>\n"
      ],
      "text/plain": [
       "\u001b[1m Trainable params: \u001b[0m\u001b[38;5;34m184,897\u001b[0m (722.25 KB)\n"
      ]
     },
     "metadata": {},
     "output_type": "display_data"
    },
    {
     "data": {
      "text/html": [
       "<pre style=\"white-space:pre;overflow-x:auto;line-height:normal;font-family:Menlo,'DejaVu Sans Mono',consolas,'Courier New',monospace\"><span style=\"font-weight: bold\"> Non-trainable params: </span><span style=\"color: #00af00; text-decoration-color: #00af00\">0</span> (0.00 B)\n",
       "</pre>\n"
      ],
      "text/plain": [
       "\u001b[1m Non-trainable params: \u001b[0m\u001b[38;5;34m0\u001b[0m (0.00 B)\n"
      ]
     },
     "metadata": {},
     "output_type": "display_data"
    },
    {
     "data": {
      "text/html": [
       "<pre style=\"white-space:pre;overflow-x:auto;line-height:normal;font-family:Menlo,'DejaVu Sans Mono',consolas,'Courier New',monospace\"><span style=\"font-weight: bold\"> Optimizer params: </span><span style=\"color: #00af00; text-decoration-color: #00af00\">2</span> (12.00 B)\n",
       "</pre>\n"
      ],
      "text/plain": [
       "\u001b[1m Optimizer params: \u001b[0m\u001b[38;5;34m2\u001b[0m (12.00 B)\n"
      ]
     },
     "metadata": {},
     "output_type": "display_data"
    }
   ],
   "source": [
    "model.summary()"
   ]
  },
  {
   "cell_type": "code",
   "execution_count": 5,
   "metadata": {},
   "outputs": [
    {
     "data": {
      "text/plain": [
       "[array([[-0.0374787 , -0.05245847,  0.01187899, ..., -0.08319547,\n",
       "          0.06592544,  0.08727318],\n",
       "        [ 0.19799043,  0.1787271 , -0.21961163, ...,  0.02194753,\n",
       "          0.10003692,  0.17531493],\n",
       "        [ 0.07636101, -0.08366407, -0.00215464, ...,  0.2504195 ,\n",
       "          0.18574941,  0.13807602],\n",
       "        ...,\n",
       "        [ 0.0337293 , -0.01823628, -0.02512521, ...,  0.03538598,\n",
       "          0.01739944,  0.01719041],\n",
       "        [ 0.0137571 ,  0.01287793, -0.03937281, ...,  0.0277516 ,\n",
       "          0.01247178,  0.02295078],\n",
       "        [ 0.02068693,  0.03114856,  0.03211844, ..., -0.01930376,\n",
       "         -0.03228124, -0.01660698]], dtype=float32),\n",
       " array([[-0.1947633 , -0.08702136,  0.07315445, ..., -0.21421564,\n",
       "          0.04751413,  0.24331719],\n",
       "        [-0.35446832,  0.31348523,  0.0885402 , ...,  0.17269005,\n",
       "         -0.366423  , -0.38585502],\n",
       "        [-0.05692679, -0.11021119, -0.3188015 , ...,  0.14785764,\n",
       "          0.03225808, -0.1319429 ],\n",
       "        ...,\n",
       "        [-0.5130343 ,  0.44154328,  0.05888832, ...,  0.4635072 ,\n",
       "          0.15112592, -0.3438654 ],\n",
       "        [ 0.05733785, -0.05380433,  0.07311187, ...,  0.08360017,\n",
       "         -0.21552622, -0.28917128],\n",
       "        [-0.2106622 ,  0.0414511 , -0.01894279, ..., -0.01942894,\n",
       "          0.06443766,  0.35085684]], dtype=float32),\n",
       " array([[ 0.01672684, -0.14199752,  0.08534157, ..., -0.19067141,\n",
       "         -0.12068974,  0.06457029],\n",
       "        [ 0.23116882, -0.10921045, -0.03145296, ...,  0.15071508,\n",
       "         -0.00444157,  0.0215026 ],\n",
       "        [-0.22287546, -0.20588778, -0.02602277, ...,  0.05565005,\n",
       "          0.12796329, -0.09816416],\n",
       "        ...,\n",
       "        [-0.03570097,  0.12513879,  0.02648272, ...,  0.18202172,\n",
       "         -0.13157168, -0.04719121],\n",
       "        [-0.03270408,  0.22620507, -0.0187616 , ..., -0.00066231,\n",
       "         -0.16203837, -0.25187254],\n",
       "        [ 0.13400914, -0.02227491,  0.02914895, ..., -0.20341052,\n",
       "          0.09544897,  0.16202156]], dtype=float32),\n",
       " array([ 0.03871435, -0.00543769, -0.05712121, -0.01421253, -0.00753785,\n",
       "         0.06228201, -0.02964603,  0.04278613,  0.08157589, -0.0325819 ,\n",
       "        -0.04080011, -0.0038524 ,  0.00441061, -0.04110186, -0.06817753,\n",
       "        -0.00482058, -0.05551137, -0.01203315,  0.0308084 ,  0.02589479,\n",
       "         0.01048542,  0.04852587, -0.04294057,  0.07390674, -0.09790994,\n",
       "         0.04803706,  0.01216801, -0.03963888,  0.04701963, -0.06388707,\n",
       "        -0.03057868,  0.06516426, -0.01633471,  0.02882804, -0.0586597 ,\n",
       "        -0.05445044, -0.04271027,  0.02199601, -0.0820038 , -0.01575599,\n",
       "         0.02980178, -0.01571862,  0.02075887, -0.01588033,  0.0675576 ,\n",
       "        -0.01017885, -0.04613734, -0.04903493, -0.01774622,  0.03921699,\n",
       "        -0.03362504, -0.01910696,  0.00993476, -0.02387549, -0.07052343,\n",
       "         0.09023529, -0.06238801, -0.04254548,  0.01113278, -0.05746073,\n",
       "        -0.05549779, -0.06113356, -0.08771805, -0.01174983, -0.07159463,\n",
       "         0.05859462, -0.00850962,  0.06407379,  0.09070498, -0.01959759,\n",
       "         0.00898421,  0.058383  , -0.08709691,  0.01291563, -0.01716489,\n",
       "        -0.03836603, -0.06507462, -0.05163059, -0.05379667, -0.08084151,\n",
       "         0.00293824,  0.01801898, -0.05628424, -0.0462015 , -0.0404347 ,\n",
       "         0.02347229, -0.02193552, -0.11459607, -0.02041746, -0.05090046,\n",
       "         0.03352558, -0.07970255, -0.01845745,  0.04641264,  0.05123927,\n",
       "        -0.00635919, -0.03736488, -0.10007293,  0.00886089,  0.02072267,\n",
       "        -0.07039431,  0.10363042, -0.05182904,  0.06353534,  0.03766514,\n",
       "        -0.03148301,  0.00303614, -0.01664568,  0.00581514,  0.00434373,\n",
       "        -0.03995265, -0.09249767,  0.01511204, -0.08303306,  0.0013038 ,\n",
       "         0.04470617, -0.02737503,  0.01612282, -0.05990727, -0.02320592,\n",
       "        -0.06634609,  0.01232466, -0.06840764, -0.07809048,  0.0142829 ,\n",
       "         0.0418204 ,  0.0051537 , -0.11251733], dtype=float32),\n",
       " array([[ 0.6049361 ],\n",
       "        [-0.5702854 ],\n",
       "        [ 0.12469857],\n",
       "        [-0.3908417 ],\n",
       "        [ 0.5898792 ],\n",
       "        [-0.21436405],\n",
       "        [ 0.3621062 ],\n",
       "        [ 0.7937529 ],\n",
       "        [-0.784778  ],\n",
       "        [-0.4578418 ],\n",
       "        [-0.14207444],\n",
       "        [-0.2002325 ],\n",
       "        [-0.17465056],\n",
       "        [ 0.26123902],\n",
       "        [ 0.03776845],\n",
       "        [-0.27946323],\n",
       "        [-0.42822388],\n",
       "        [-0.02824639],\n",
       "        [-0.01129016],\n",
       "        [ 0.26645175],\n",
       "        [ 0.0394863 ],\n",
       "        [ 0.04679641],\n",
       "        [-0.26515508],\n",
       "        [-0.5825759 ],\n",
       "        [-0.03367037],\n",
       "        [-0.28967258],\n",
       "        [ 0.15830119],\n",
       "        [-0.19384766],\n",
       "        [-0.3374677 ],\n",
       "        [ 0.23063448],\n",
       "        [ 0.41655904],\n",
       "        [-0.5971013 ],\n",
       "        [-0.13685338],\n",
       "        [ 0.7173605 ],\n",
       "        [-0.5920943 ],\n",
       "        [-0.32622433],\n",
       "        [ 0.09696355],\n",
       "        [-0.12222476],\n",
       "        [-0.5072219 ],\n",
       "        [ 0.32879224],\n",
       "        [-0.7220418 ],\n",
       "        [-0.67306244],\n",
       "        [-0.5140803 ],\n",
       "        [-0.2539141 ],\n",
       "        [-0.42943963],\n",
       "        [-0.55689293],\n",
       "        [-0.69803464],\n",
       "        [-0.07968752],\n",
       "        [ 0.50650936],\n",
       "        [-0.48783547],\n",
       "        [-0.25993785],\n",
       "        [ 0.08091675],\n",
       "        [-0.6767601 ],\n",
       "        [-0.23548765],\n",
       "        [ 0.26192206],\n",
       "        [-0.4604503 ],\n",
       "        [ 0.0373107 ],\n",
       "        [ 0.12354326],\n",
       "        [ 0.64012283],\n",
       "        [-0.49196276],\n",
       "        [ 0.06801896],\n",
       "        [-0.31625825],\n",
       "        [ 0.02406311],\n",
       "        [-0.74941635],\n",
       "        [ 0.28494963],\n",
       "        [ 0.82321614],\n",
       "        [-0.6054098 ],\n",
       "        [-0.9968641 ],\n",
       "        [ 0.8705715 ],\n",
       "        [-0.6142369 ],\n",
       "        [-0.46198228],\n",
       "        [-0.72982687],\n",
       "        [ 0.152042  ],\n",
       "        [ 0.00538129],\n",
       "        [ 0.02554942],\n",
       "        [ 0.16744679],\n",
       "        [ 0.12065775],\n",
       "        [ 0.3322329 ],\n",
       "        [-0.07549524],\n",
       "        [ 0.00431489],\n",
       "        [-0.40801707],\n",
       "        [-0.28125963],\n",
       "        [-0.30546394],\n",
       "        [ 0.41057122],\n",
       "        [-0.3909681 ],\n",
       "        [-0.00436058],\n",
       "        [ 0.59468037],\n",
       "        [-0.13261534],\n",
       "        [ 0.5646743 ],\n",
       "        [-0.18322681],\n",
       "        [ 0.02409197],\n",
       "        [ 0.04147376],\n",
       "        [ 0.24250478],\n",
       "        [ 0.6870045 ],\n",
       "        [-0.5383896 ],\n",
       "        [-0.62671727],\n",
       "        [-0.08270135],\n",
       "        [-0.03335303],\n",
       "        [-0.07517838],\n",
       "        [-0.69856656],\n",
       "        [-0.03787495],\n",
       "        [ 0.17446946],\n",
       "        [ 0.11269177],\n",
       "        [-0.27099898],\n",
       "        [-0.16908267],\n",
       "        [-0.43499458],\n",
       "        [-0.37348092],\n",
       "        [ 0.03589018],\n",
       "        [ 0.10174742],\n",
       "        [-0.01442556],\n",
       "        [ 0.08184163],\n",
       "        [ 0.03552556],\n",
       "        [-0.38217023],\n",
       "        [ 0.03666768],\n",
       "        [ 0.3715791 ],\n",
       "        [-0.13524176],\n",
       "        [-0.37620994],\n",
       "        [ 0.3561727 ],\n",
       "        [-0.23357877],\n",
       "        [-0.27501005],\n",
       "        [ 0.29739282],\n",
       "        [-0.1568433 ],\n",
       "        [-0.18151633],\n",
       "        [-0.4139702 ],\n",
       "        [-0.5764358 ],\n",
       "        [-0.1947613 ],\n",
       "        [-0.17384075],\n",
       "        [ 0.52317446]], dtype=float32),\n",
       " array([-0.07015128], dtype=float32)]"
      ]
     },
     "execution_count": 5,
     "metadata": {},
     "output_type": "execute_result"
    }
   ],
   "source": [
    "model.get_weights()"
   ]
  },
  {
   "cell_type": "code",
   "execution_count": 20,
   "metadata": {},
   "outputs": [],
   "source": [
    "from tensorflow.keras.preprocessing.text import Tokenizer\n",
    "from tensorflow.keras.preprocessing.sequence import pad_sequences\n",
    "\n",
    "# Sample data\n",
    "texts = [\n",
    "    \"you are one of the bitch person i have seen\",\n",
    "    # Add more samples to fit the tokenizer\n",
    "]\n",
    "\n",
    "# Create and fit the tokenizer\n",
    "tokenizer = Tokenizer(num_words=2501)  # Ensure this matches your vocab size\n",
    "tokenizer.fit_on_texts(texts)\n"
   ]
  },
  {
   "cell_type": "code",
   "execution_count": 40,
   "metadata": {},
   "outputs": [
    {
     "name": "stdout",
     "output_type": "stream",
     "text": [
      "[[0 0 0 0 0 0 0 0 0 0 0 0 0 0 0 0 0 0 0 0 0 0 0 0 0 0 0 0 0 0 0 0 0 0 0 0\n",
      "  0 0 0 0 0 0 0 0 0 0 0 0 0 0 0 0 0 0 0 0 0 0 0 0 0 0 0 0 0 0 0 0 0 0 0 0\n",
      "  0 0 2 5]]\n"
     ]
    }
   ],
   "source": [
    "def preprocess_text(text, tokenizer, max_len=76):\n",
    "    # Tokenize the text\n",
    "    sequences = tokenizer.texts_to_sequences([text])\n",
    "    \n",
    "    # Pad the sequences\n",
    "    padded_sequences = pad_sequences(sequences, maxlen=max_len)\n",
    "    \n",
    "    return padded_sequences\n",
    "\n",
    "# Example usage\n",
    "tweet = \"from racism to resource development, here are the political stories inuit watched in 2016  \"\n",
    "text = preprocess_text(tweet, tokenizer)\n",
    "print(text)\n"
   ]
  },
  {
   "cell_type": "code",
   "execution_count": 41,
   "metadata": {},
   "outputs": [
    {
     "name": "stdout",
     "output_type": "stream",
     "text": [
      "\u001b[1m1/1\u001b[0m \u001b[32m━━━━━━━━━━━━━━━━━━━━\u001b[0m\u001b[37m\u001b[0m \u001b[1m0s\u001b[0m 40ms/step\n",
      "('negative', array([[0.00041735]], dtype=float32))\n"
     ]
    }
   ],
   "source": [
    "def pred(text):\n",
    "    pre_ip = preprocess_text(text,tokenizer)\n",
    "    prediction = model.predict(pre_ip)\n",
    "    res = \"positive\" if prediction[0][0]>0.5 else \"negative\"\n",
    "    return res,prediction\n",
    "print(pred(tweet))"
   ]
  }
 ],
 "metadata": {
  "kernelspec": {
   "display_name": "base",
   "language": "python",
   "name": "python3"
  },
  "language_info": {
   "codemirror_mode": {
    "name": "ipython",
    "version": 3
   },
   "file_extension": ".py",
   "mimetype": "text/x-python",
   "name": "python",
   "nbconvert_exporter": "python",
   "pygments_lexer": "ipython3",
   "version": "3.11.5"
  }
 },
 "nbformat": 4,
 "nbformat_minor": 2
}
